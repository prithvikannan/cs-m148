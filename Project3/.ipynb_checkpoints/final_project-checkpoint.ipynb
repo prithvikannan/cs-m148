{
 "cells": [
  {
   "cell_type": "markdown",
   "metadata": {},
   "source": [
    "# CSM148 Final Project"
   ]
  },
  {
   "cell_type": "markdown",
   "metadata": {},
   "source": [
    "*Prithvi Kannan*\n",
    "\n",
    "*UID: 405110096*\n"
   ]
  },
  {
   "cell_type": "code",
   "execution_count": 1,
   "metadata": {},
   "outputs": [],
   "source": [
    "# relevant imports\n",
    "import numpy as np \n",
    "import pandas as pd \n",
    "import matplotlib.pyplot as plt \n",
    "import os\n",
    "from sklearn.model_selection import train_test_split, cross_val_score, GridSearchCV\n",
    "from sklearn import metrics\n",
    "from sklearn.svm import SVC  \n",
    "from sklearn.linear_model import LogisticRegression\n",
    "from sklearn.neighbors import KNeighborsClassifier\n",
    "from sklearn.tree import DecisionTreeClassifier\n",
    "from sklearn.cluster import KMeans\n",
    "from sklearn.metrics import confusion_matrix, precision_score, recall_score, f1_score, accuracy_score\n",
    "import sklearn.metrics.cluster as smc\n",
    "from sklearn.model_selection import KFold\n",
    "from sklearn.utils import resample\n",
    "from sklearn.impute import SimpleImputer\n",
    "from sklearn.preprocessing import StandardScaler\n",
    "from sklearn.neural_network import MLPClassifier\n",
    "from sklearn.utils._testing import ignore_warnings\n",
    "from sklearn.exceptions import ConvergenceWarning\n",
    "from sklearn.model_selection import KFold\n",
    "from sklearn.ensemble import RandomForestClassifier\n",
    "from sklearn.decomposition import PCA\n",
    "from matplotlib import pyplot\n",
    "import itertools\n",
    "\n",
    "%matplotlib inline\n",
    "\n",
    "import random \n",
    "  \n",
    "random.seed(42) "
   ]
  },
  {
   "cell_type": "markdown",
   "metadata": {},
   "source": [
    "### Load data"
   ]
  },
  {
   "cell_type": "code",
   "execution_count": 2,
   "metadata": {},
   "outputs": [],
   "source": [
    "data = pd.read_csv(os.getcwd() + \"/healthcare-dataset-stroke-data.csv\")"
   ]
  },
  {
   "cell_type": "markdown",
   "metadata": {},
   "source": [
    "**Data Fields**\n",
    "- id: unique identifier\n",
    "- gender: \"Male\", \"Female\" or \"Other\"\n",
    "- age: age of the patient\n",
    "- hypertension: 0 if the patient doesn't have hypertension, 1 if the patient has hypertension 5) heart_disease: 0 if the patient doesn't have any heart diseases, 1 if the patient has a heart disease\n",
    "- ever_married: \"No\" or \"Yes\"\n",
    "- work_type: \"children\", \"Govt_jov\", \"Never_worked\", \"Private\" or \"Self-employed\"\n",
    "- Residence_type: \"Rural\" or \"Urban\"\n",
    "- avg_glucose_level: average glucose level in blood\n",
    "- bmi: body mass index\n",
    "- smoking_status: \"formerly smoked\", \"never smoked\", \"smokes\" or \"Unknown\"*\n",
    "- stroke: 1 if the patient had a stroke or 0 if not"
   ]
  },
  {
   "cell_type": "markdown",
   "metadata": {},
   "source": [
    "### Basic Statistics"
   ]
  },
  {
   "cell_type": "code",
   "execution_count": 3,
   "metadata": {},
   "outputs": [
    {
     "data": {
      "text/html": [
       "<div>\n",
       "<style scoped>\n",
       "    .dataframe tbody tr th:only-of-type {\n",
       "        vertical-align: middle;\n",
       "    }\n",
       "\n",
       "    .dataframe tbody tr th {\n",
       "        vertical-align: top;\n",
       "    }\n",
       "\n",
       "    .dataframe thead th {\n",
       "        text-align: right;\n",
       "    }\n",
       "</style>\n",
       "<table border=\"1\" class=\"dataframe\">\n",
       "  <thead>\n",
       "    <tr style=\"text-align: right;\">\n",
       "      <th></th>\n",
       "      <th>id</th>\n",
       "      <th>gender</th>\n",
       "      <th>age</th>\n",
       "      <th>hypertension</th>\n",
       "      <th>heart_disease</th>\n",
       "      <th>ever_married</th>\n",
       "      <th>work_type</th>\n",
       "      <th>Residence_type</th>\n",
       "      <th>avg_glucose_level</th>\n",
       "      <th>bmi</th>\n",
       "      <th>smoking_status</th>\n",
       "      <th>stroke</th>\n",
       "    </tr>\n",
       "  </thead>\n",
       "  <tbody>\n",
       "    <tr>\n",
       "      <th>0</th>\n",
       "      <td>9046</td>\n",
       "      <td>Male</td>\n",
       "      <td>67.0</td>\n",
       "      <td>0</td>\n",
       "      <td>1</td>\n",
       "      <td>Yes</td>\n",
       "      <td>Private</td>\n",
       "      <td>Urban</td>\n",
       "      <td>228.69</td>\n",
       "      <td>36.6</td>\n",
       "      <td>formerly smoked</td>\n",
       "      <td>1</td>\n",
       "    </tr>\n",
       "    <tr>\n",
       "      <th>1</th>\n",
       "      <td>51676</td>\n",
       "      <td>Female</td>\n",
       "      <td>61.0</td>\n",
       "      <td>0</td>\n",
       "      <td>0</td>\n",
       "      <td>Yes</td>\n",
       "      <td>Self-employed</td>\n",
       "      <td>Rural</td>\n",
       "      <td>202.21</td>\n",
       "      <td>NaN</td>\n",
       "      <td>never smoked</td>\n",
       "      <td>1</td>\n",
       "    </tr>\n",
       "    <tr>\n",
       "      <th>2</th>\n",
       "      <td>31112</td>\n",
       "      <td>Male</td>\n",
       "      <td>80.0</td>\n",
       "      <td>0</td>\n",
       "      <td>1</td>\n",
       "      <td>Yes</td>\n",
       "      <td>Private</td>\n",
       "      <td>Rural</td>\n",
       "      <td>105.92</td>\n",
       "      <td>32.5</td>\n",
       "      <td>never smoked</td>\n",
       "      <td>1</td>\n",
       "    </tr>\n",
       "    <tr>\n",
       "      <th>3</th>\n",
       "      <td>60182</td>\n",
       "      <td>Female</td>\n",
       "      <td>49.0</td>\n",
       "      <td>0</td>\n",
       "      <td>0</td>\n",
       "      <td>Yes</td>\n",
       "      <td>Private</td>\n",
       "      <td>Urban</td>\n",
       "      <td>171.23</td>\n",
       "      <td>34.4</td>\n",
       "      <td>smokes</td>\n",
       "      <td>1</td>\n",
       "    </tr>\n",
       "    <tr>\n",
       "      <th>4</th>\n",
       "      <td>1665</td>\n",
       "      <td>Female</td>\n",
       "      <td>79.0</td>\n",
       "      <td>1</td>\n",
       "      <td>0</td>\n",
       "      <td>Yes</td>\n",
       "      <td>Self-employed</td>\n",
       "      <td>Rural</td>\n",
       "      <td>174.12</td>\n",
       "      <td>24.0</td>\n",
       "      <td>never smoked</td>\n",
       "      <td>1</td>\n",
       "    </tr>\n",
       "  </tbody>\n",
       "</table>\n",
       "</div>"
      ],
      "text/plain": [
       "      id  gender   age  hypertension  heart_disease ever_married  \\\n",
       "0   9046    Male  67.0             0              1          Yes   \n",
       "1  51676  Female  61.0             0              0          Yes   \n",
       "2  31112    Male  80.0             0              1          Yes   \n",
       "3  60182  Female  49.0             0              0          Yes   \n",
       "4   1665  Female  79.0             1              0          Yes   \n",
       "\n",
       "       work_type Residence_type  avg_glucose_level   bmi   smoking_status  \\\n",
       "0        Private          Urban             228.69  36.6  formerly smoked   \n",
       "1  Self-employed          Rural             202.21   NaN     never smoked   \n",
       "2        Private          Rural             105.92  32.5     never smoked   \n",
       "3        Private          Urban             171.23  34.4           smokes   \n",
       "4  Self-employed          Rural             174.12  24.0     never smoked   \n",
       "\n",
       "   stroke  \n",
       "0       1  \n",
       "1       1  \n",
       "2       1  \n",
       "3       1  \n",
       "4       1  "
      ]
     },
     "execution_count": 3,
     "metadata": {},
     "output_type": "execute_result"
    }
   ],
   "source": [
    "# first 5 rows\n",
    "data.head()"
   ]
  },
  {
   "cell_type": "code",
   "execution_count": 4,
   "metadata": {},
   "outputs": [
    {
     "name": "stdout",
     "output_type": "stream",
     "text": [
      "<class 'pandas.core.frame.DataFrame'>\n",
      "RangeIndex: 5110 entries, 0 to 5109\n",
      "Data columns (total 12 columns):\n",
      " #   Column             Non-Null Count  Dtype  \n",
      "---  ------             --------------  -----  \n",
      " 0   id                 5110 non-null   int64  \n",
      " 1   gender             5110 non-null   object \n",
      " 2   age                5110 non-null   float64\n",
      " 3   hypertension       5110 non-null   int64  \n",
      " 4   heart_disease      5110 non-null   int64  \n",
      " 5   ever_married       5110 non-null   object \n",
      " 6   work_type          5110 non-null   object \n",
      " 7   Residence_type     5110 non-null   object \n",
      " 8   avg_glucose_level  5110 non-null   float64\n",
      " 9   bmi                4909 non-null   float64\n",
      " 10  smoking_status     5110 non-null   object \n",
      " 11  stroke             5110 non-null   int64  \n",
      "dtypes: float64(3), int64(4), object(5)\n",
      "memory usage: 479.2+ KB\n"
     ]
    }
   ],
   "source": [
    "# summary info to understand the different data types in the table\n",
    "data.info()"
   ]
  },
  {
   "cell_type": "markdown",
   "metadata": {},
   "source": [
    "* there are only 4909 non-null values for BMI, so we will need to impute missing data\n",
    "* we will need to encode boolean data such as `gender`, `ever_married`, `residence_type`\n",
    "* we will need to encode categorical data such as `work_type`, `smoking_status`"
   ]
  },
  {
   "cell_type": "code",
   "execution_count": 5,
   "metadata": {},
   "outputs": [
    {
     "data": {
      "text/html": [
       "<div>\n",
       "<style scoped>\n",
       "    .dataframe tbody tr th:only-of-type {\n",
       "        vertical-align: middle;\n",
       "    }\n",
       "\n",
       "    .dataframe tbody tr th {\n",
       "        vertical-align: top;\n",
       "    }\n",
       "\n",
       "    .dataframe thead th {\n",
       "        text-align: right;\n",
       "    }\n",
       "</style>\n",
       "<table border=\"1\" class=\"dataframe\">\n",
       "  <thead>\n",
       "    <tr style=\"text-align: right;\">\n",
       "      <th></th>\n",
       "      <th>id</th>\n",
       "      <th>age</th>\n",
       "      <th>hypertension</th>\n",
       "      <th>heart_disease</th>\n",
       "      <th>avg_glucose_level</th>\n",
       "      <th>bmi</th>\n",
       "      <th>stroke</th>\n",
       "    </tr>\n",
       "  </thead>\n",
       "  <tbody>\n",
       "    <tr>\n",
       "      <th>count</th>\n",
       "      <td>5110.000000</td>\n",
       "      <td>5110.000000</td>\n",
       "      <td>5110.000000</td>\n",
       "      <td>5110.000000</td>\n",
       "      <td>5110.000000</td>\n",
       "      <td>4909.000000</td>\n",
       "      <td>5110.000000</td>\n",
       "    </tr>\n",
       "    <tr>\n",
       "      <th>mean</th>\n",
       "      <td>36517.829354</td>\n",
       "      <td>43.226614</td>\n",
       "      <td>0.097456</td>\n",
       "      <td>0.054012</td>\n",
       "      <td>106.147677</td>\n",
       "      <td>28.893237</td>\n",
       "      <td>0.048728</td>\n",
       "    </tr>\n",
       "    <tr>\n",
       "      <th>std</th>\n",
       "      <td>21161.721625</td>\n",
       "      <td>22.612647</td>\n",
       "      <td>0.296607</td>\n",
       "      <td>0.226063</td>\n",
       "      <td>45.283560</td>\n",
       "      <td>7.854067</td>\n",
       "      <td>0.215320</td>\n",
       "    </tr>\n",
       "    <tr>\n",
       "      <th>min</th>\n",
       "      <td>67.000000</td>\n",
       "      <td>0.080000</td>\n",
       "      <td>0.000000</td>\n",
       "      <td>0.000000</td>\n",
       "      <td>55.120000</td>\n",
       "      <td>10.300000</td>\n",
       "      <td>0.000000</td>\n",
       "    </tr>\n",
       "    <tr>\n",
       "      <th>25%</th>\n",
       "      <td>17741.250000</td>\n",
       "      <td>25.000000</td>\n",
       "      <td>0.000000</td>\n",
       "      <td>0.000000</td>\n",
       "      <td>77.245000</td>\n",
       "      <td>23.500000</td>\n",
       "      <td>0.000000</td>\n",
       "    </tr>\n",
       "    <tr>\n",
       "      <th>50%</th>\n",
       "      <td>36932.000000</td>\n",
       "      <td>45.000000</td>\n",
       "      <td>0.000000</td>\n",
       "      <td>0.000000</td>\n",
       "      <td>91.885000</td>\n",
       "      <td>28.100000</td>\n",
       "      <td>0.000000</td>\n",
       "    </tr>\n",
       "    <tr>\n",
       "      <th>75%</th>\n",
       "      <td>54682.000000</td>\n",
       "      <td>61.000000</td>\n",
       "      <td>0.000000</td>\n",
       "      <td>0.000000</td>\n",
       "      <td>114.090000</td>\n",
       "      <td>33.100000</td>\n",
       "      <td>0.000000</td>\n",
       "    </tr>\n",
       "    <tr>\n",
       "      <th>max</th>\n",
       "      <td>72940.000000</td>\n",
       "      <td>82.000000</td>\n",
       "      <td>1.000000</td>\n",
       "      <td>1.000000</td>\n",
       "      <td>271.740000</td>\n",
       "      <td>97.600000</td>\n",
       "      <td>1.000000</td>\n",
       "    </tr>\n",
       "  </tbody>\n",
       "</table>\n",
       "</div>"
      ],
      "text/plain": [
       "                 id          age  hypertension  heart_disease  \\\n",
       "count   5110.000000  5110.000000   5110.000000    5110.000000   \n",
       "mean   36517.829354    43.226614      0.097456       0.054012   \n",
       "std    21161.721625    22.612647      0.296607       0.226063   \n",
       "min       67.000000     0.080000      0.000000       0.000000   \n",
       "25%    17741.250000    25.000000      0.000000       0.000000   \n",
       "50%    36932.000000    45.000000      0.000000       0.000000   \n",
       "75%    54682.000000    61.000000      0.000000       0.000000   \n",
       "max    72940.000000    82.000000      1.000000       1.000000   \n",
       "\n",
       "       avg_glucose_level          bmi       stroke  \n",
       "count        5110.000000  4909.000000  5110.000000  \n",
       "mean          106.147677    28.893237     0.048728  \n",
       "std            45.283560     7.854067     0.215320  \n",
       "min            55.120000    10.300000     0.000000  \n",
       "25%            77.245000    23.500000     0.000000  \n",
       "50%            91.885000    28.100000     0.000000  \n",
       "75%           114.090000    33.100000     0.000000  \n",
       "max           271.740000    97.600000     1.000000  "
      ]
     },
     "execution_count": 5,
     "metadata": {},
     "output_type": "execute_result"
    }
   ],
   "source": [
    "# statistics for the numerical features in the table\n",
    "data.describe()"
   ]
  },
  {
   "cell_type": "markdown",
   "metadata": {},
   "source": [
    "* numerical features are on very difference scales (glucose mean is 106 and BMI mean is 29)"
   ]
  },
  {
   "cell_type": "code",
   "execution_count": 6,
   "metadata": {},
   "outputs": [
    {
     "data": {
      "image/png": "[encoded data removed]",
      "text/plain": [
       "<Figure size 720x720 with 9 Axes>"
      ]
     },
     "metadata": {
      "needs_background": "light"
     },
     "output_type": "display_data"
    }
   ],
   "source": [
    "# distributions of different features\n",
    "data.hist(figsize = (10,10))\n",
    "plt.show()"
   ]
  },
  {
   "cell_type": "markdown",
   "metadata": {},
   "source": [
    "* `age` is normally distributed with mean around 43\n",
    "* `avg_glucose_level` and `bmi` follow a normal curve but are heavily skewed to the right side with many large outliers\n",
    "* binary features such as `heart_disease` and `hypertension` have significant class imbalance\n",
    "* target variable `stroke` is imbalanced"
   ]
  },
  {
   "cell_type": "code",
   "execution_count": 7,
   "metadata": {},
   "outputs": [
    {
     "data": {
      "text/plain": [
       "Private          2925\n",
       "Self-employed     819\n",
       "children          687\n",
       "Govt_job          657\n",
       "Never_worked       22\n",
       "Name: work_type, dtype: int64"
      ]
     },
     "execution_count": 7,
     "metadata": {},
     "output_type": "execute_result"
    }
   ],
   "source": [
    "data['work_type'].value_counts()"
   ]
  },
  {
   "cell_type": "markdown",
   "metadata": {},
   "source": [
    "* there is heavy class imbalance amongst 5 different categories"
   ]
  },
  {
   "cell_type": "code",
   "execution_count": 8,
   "metadata": {},
   "outputs": [
    {
     "data": {
      "text/plain": [
       "never smoked       1892\n",
       "Unknown            1544\n",
       "formerly smoked     885\n",
       "smokes              789\n",
       "Name: smoking_status, dtype: int64"
      ]
     },
     "execution_count": 8,
     "metadata": {},
     "output_type": "execute_result"
    }
   ],
   "source": [
    "data['smoking_status'].value_counts()"
   ]
  },
  {
   "cell_type": "markdown",
   "metadata": {},
   "source": [
    "* \"Unknown\" category may need to be imputed"
   ]
  },
  {
   "cell_type": "code",
   "execution_count": 9,
   "metadata": {},
   "outputs": [
    {
     "data": {
      "text/plain": [
       "0    4861\n",
       "1     249\n",
       "Name: stroke, dtype: int64"
      ]
     },
     "execution_count": 9,
     "metadata": {},
     "output_type": "execute_result"
    }
   ],
   "source": [
    "data['stroke'].value_counts()"
   ]
  },
  {
   "cell_type": "code",
   "execution_count": 10,
   "metadata": {},
   "outputs": [
    {
     "data": {
      "text/plain": [
       "id                   0.006388\n",
       "age                  0.245257\n",
       "hypertension         0.127904\n",
       "heart_disease        0.134914\n",
       "avg_glucose_level    0.131945\n",
       "bmi                  0.042374\n",
       "stroke               1.000000\n",
       "Name: stroke, dtype: float64"
      ]
     },
     "execution_count": 10,
     "metadata": {},
     "output_type": "execute_result"
    }
   ],
   "source": [
    "# analyze correlations with inputs and target output stroke\n",
    "data.corr()['stroke']"
   ]
  },
  {
   "cell_type": "markdown",
   "metadata": {},
   "source": [
    "### Data Pipeline"
   ]
  },
  {
   "cell_type": "code",
   "execution_count": 11,
   "metadata": {},
   "outputs": [
    {
     "data": {
      "text/html": [
       "<div>\n",
       "<style scoped>\n",
       "    .dataframe tbody tr th:only-of-type {\n",
       "        vertical-align: middle;\n",
       "    }\n",
       "\n",
       "    .dataframe tbody tr th {\n",
       "        vertical-align: top;\n",
       "    }\n",
       "\n",
       "    .dataframe thead th {\n",
       "        text-align: right;\n",
       "    }\n",
       "</style>\n",
       "<table border=\"1\" class=\"dataframe\">\n",
       "  <thead>\n",
       "    <tr style=\"text-align: right;\">\n",
       "      <th></th>\n",
       "      <th>id</th>\n",
       "      <th>gender</th>\n",
       "      <th>age</th>\n",
       "      <th>hypertension</th>\n",
       "      <th>heart_disease</th>\n",
       "      <th>ever_married</th>\n",
       "      <th>work_type</th>\n",
       "      <th>Residence_type</th>\n",
       "      <th>avg_glucose_level</th>\n",
       "      <th>bmi</th>\n",
       "      <th>smoking_status</th>\n",
       "      <th>stroke</th>\n",
       "    </tr>\n",
       "  </thead>\n",
       "  <tbody>\n",
       "    <tr>\n",
       "      <th>0</th>\n",
       "      <td>9046</td>\n",
       "      <td>Male</td>\n",
       "      <td>67.0</td>\n",
       "      <td>0</td>\n",
       "      <td>1</td>\n",
       "      <td>Yes</td>\n",
       "      <td>Private</td>\n",
       "      <td>Urban</td>\n",
       "      <td>228.69</td>\n",
       "      <td>36.6</td>\n",
       "      <td>formerly smoked</td>\n",
       "      <td>1</td>\n",
       "    </tr>\n",
       "    <tr>\n",
       "      <th>1</th>\n",
       "      <td>51676</td>\n",
       "      <td>Female</td>\n",
       "      <td>61.0</td>\n",
       "      <td>0</td>\n",
       "      <td>0</td>\n",
       "      <td>Yes</td>\n",
       "      <td>Self-employed</td>\n",
       "      <td>Rural</td>\n",
       "      <td>202.21</td>\n",
       "      <td>NaN</td>\n",
       "      <td>never smoked</td>\n",
       "      <td>1</td>\n",
       "    </tr>\n",
       "    <tr>\n",
       "      <th>2</th>\n",
       "      <td>31112</td>\n",
       "      <td>Male</td>\n",
       "      <td>80.0</td>\n",
       "      <td>0</td>\n",
       "      <td>1</td>\n",
       "      <td>Yes</td>\n",
       "      <td>Private</td>\n",
       "      <td>Rural</td>\n",
       "      <td>105.92</td>\n",
       "      <td>32.5</td>\n",
       "      <td>never smoked</td>\n",
       "      <td>1</td>\n",
       "    </tr>\n",
       "    <tr>\n",
       "      <th>3</th>\n",
       "      <td>60182</td>\n",
       "      <td>Female</td>\n",
       "      <td>49.0</td>\n",
       "      <td>0</td>\n",
       "      <td>0</td>\n",
       "      <td>Yes</td>\n",
       "      <td>Private</td>\n",
       "      <td>Urban</td>\n",
       "      <td>171.23</td>\n",
       "      <td>34.4</td>\n",
       "      <td>smokes</td>\n",
       "      <td>1</td>\n",
       "    </tr>\n",
       "    <tr>\n",
       "      <th>4</th>\n",
       "      <td>1665</td>\n",
       "      <td>Female</td>\n",
       "      <td>79.0</td>\n",
       "      <td>1</td>\n",
       "      <td>0</td>\n",
       "      <td>Yes</td>\n",
       "      <td>Self-employed</td>\n",
       "      <td>Rural</td>\n",
       "      <td>174.12</td>\n",
       "      <td>24.0</td>\n",
       "      <td>never smoked</td>\n",
       "      <td>1</td>\n",
       "    </tr>\n",
       "  </tbody>\n",
       "</table>\n",
       "</div>"
      ],
      "text/plain": [
       "      id  gender   age  hypertension  heart_disease ever_married  \\\n",
       "0   9046    Male  67.0             0              1          Yes   \n",
       "1  51676  Female  61.0             0              0          Yes   \n",
       "2  31112    Male  80.0             0              1          Yes   \n",
       "3  60182  Female  49.0             0              0          Yes   \n",
       "4   1665  Female  79.0             1              0          Yes   \n",
       "\n",
       "       work_type Residence_type  avg_glucose_level   bmi   smoking_status  \\\n",
       "0        Private          Urban             228.69  36.6  formerly smoked   \n",
       "1  Self-employed          Rural             202.21   NaN     never smoked   \n",
       "2        Private          Rural             105.92  32.5     never smoked   \n",
       "3        Private          Urban             171.23  34.4           smokes   \n",
       "4  Self-employed          Rural             174.12  24.0     never smoked   \n",
       "\n",
       "   stroke  \n",
       "0       1  \n",
       "1       1  \n",
       "2       1  \n",
       "3       1  \n",
       "4       1  "
      ]
     },
     "execution_count": 11,
     "metadata": {},
     "output_type": "execute_result"
    }
   ],
   "source": [
    "# data before pipeline\n",
    "data.head()"
   ]
  },
  {
   "cell_type": "code",
   "execution_count": 12,
   "metadata": {},
   "outputs": [
    {
     "name": "stdout",
     "output_type": "stream",
     "text": [
      "Before balancing: \n",
      "0    4861\n",
      "1     249\n",
      "Name: stroke, dtype: int64\n",
      "After balancing: \n",
      "0    4861\n",
      "1    2000\n",
      "Name: stroke, dtype: int64\n"
     ]
    }
   ],
   "source": [
    "# upsample minority class\n",
    "print(\"Before balancing: \")\n",
    "print(data['stroke'].value_counts())\n",
    "\n",
    "df_minority = data[data.stroke == 1]\n",
    "df_majority = data[data.stroke == 0]\n",
    "df_minority_upsampled = resample(df_minority, replace=True, n_samples=2000, random_state=123)\n",
    "balanced = pd.concat([df_majority, df_minority_upsampled])\n",
    "print(\"After balancing: \")\n",
    "print(balanced['stroke'].value_counts())\n",
    "\n",
    "data = balanced"
   ]
  },
  {
   "cell_type": "code",
   "execution_count": 13,
   "metadata": {},
   "outputs": [],
   "source": [
    "# run cleanup in pipeline\n",
    "def run_pipeline(data, should_scale=True, verbose=False):\n",
    "    processed_data = data\n",
    "\n",
    "    # drop useless variables\n",
    "    processed_data.drop(columns=['id'], inplace=True)\n",
    "    \n",
    "    # impute bad values\n",
    "    imputer = SimpleImputer(missing_values=\"Other\", strategy=\"most_frequent\") \n",
    "    processed_data['gender'] = imputer.fit_transform(processed_data[['gender']]).ravel()\n",
    "    imputer = SimpleImputer(missing_values=np.nan, strategy=\"median\") \n",
    "    processed_data['bmi'] = imputer.fit_transform(processed_data[['bmi']]).ravel()\n",
    "    imputer = SimpleImputer(missing_values=\"Unknown\", strategy=\"most_frequent\") \n",
    "    processed_data['smoking_status'] = imputer.fit_transform(processed_data[['smoking_status']]).ravel()\n",
    "    \n",
    "    # encode binary variables\n",
    "    binary_replace = {\n",
    "            \"gender\": {\"Male\": 1, \"Female\": 0},\n",
    "            \"ever_married\": {\"Yes\": 1, \"No\": 0},\n",
    "            \"Residence_type\": {\"Rural\": 1, \"Urban\": 0},\n",
    "        }\n",
    "    processed_data = processed_data.replace(binary_replace)\n",
    "    \n",
    "    # one hot encoding for categorical variables\n",
    "    categoricals = ['work_type', 'smoking_status']\n",
    "    one_hot_work = pd.get_dummies(processed_data['work_type'],prefix='work_type',drop_first=True)\n",
    "    one_hot_smoking = pd.get_dummies(processed_data['smoking_status'],prefix='smoking_status',drop_first=True)\n",
    "    processed_data = pd.concat([processed_data, one_hot_work, one_hot_smoking], axis=1)\n",
    "    processed_data.drop(columns=categoricals, inplace=True)\n",
    "    \n",
    "    # augment feature\n",
    "    processed_data['prexisting'] = processed_data['heart_disease'] | processed_data['hypertension']\n",
    "\n",
    "    if verbose:\n",
    "        print(processed_data.info())\n",
    "        \n",
    "    # scale data appropriately\n",
    "    if should_scale:\n",
    "        scaler = StandardScaler()\n",
    "        scaler.fit(processed_data)\n",
    "        processed_data = scaler.transform(processed_data)    \n",
    "    \n",
    "    return processed_data"
   ]
  },
  {
   "cell_type": "code",
   "execution_count": 14,
   "metadata": {},
   "outputs": [
    {
     "name": "stdout",
     "output_type": "stream",
     "text": [
      "<class 'pandas.core.frame.DataFrame'>\n",
      "Int64Index: 6861 entries, 249 to 23\n",
      "Data columns (total 15 columns):\n",
      " #   Column                       Non-Null Count  Dtype  \n",
      "---  ------                       --------------  -----  \n",
      " 0   gender                       6861 non-null   int64  \n",
      " 1   age                          6861 non-null   float64\n",
      " 2   hypertension                 6861 non-null   int64  \n",
      " 3   heart_disease                6861 non-null   int64  \n",
      " 4   ever_married                 6861 non-null   int64  \n",
      " 5   Residence_type               6861 non-null   int64  \n",
      " 6   avg_glucose_level            6861 non-null   float64\n",
      " 7   bmi                          6861 non-null   float64\n",
      " 8   work_type_Never_worked       6861 non-null   uint8  \n",
      " 9   work_type_Private            6861 non-null   uint8  \n",
      " 10  work_type_Self-employed      6861 non-null   uint8  \n",
      " 11  work_type_children           6861 non-null   uint8  \n",
      " 12  smoking_status_never smoked  6861 non-null   uint8  \n",
      " 13  smoking_status_smokes        6861 non-null   uint8  \n",
      " 14  prexisting                   6861 non-null   int64  \n",
      "dtypes: float64(3), int64(6), uint8(6)\n",
      "memory usage: 576.2 KB\n",
      "None\n"
     ]
    }
   ],
   "source": [
    "# train-test split \n",
    "labels = data['stroke']\n",
    "processed_data = data.drop(columns=['stroke'])\n",
    "\n",
    "# with scaling\n",
    "processed_data = run_pipeline(processed_data, should_scale=True, verbose=True)\n",
    "x_train, x_test, y_train, y_test = train_test_split(processed_data, labels, test_size = 0.2, stratify=labels)"
   ]
  },
  {
   "cell_type": "code",
   "execution_count": 15,
   "metadata": {},
   "outputs": [
    {
     "name": "stdout",
     "output_type": "stream",
     "text": [
      "(5488, 15)\n",
      "(5488,)\n",
      "(1373, 15)\n",
      "(1373,)\n"
     ]
    }
   ],
   "source": [
    "print(x_train.shape)\n",
    "print(y_train.shape)\n",
    "print(x_test.shape)\n",
    "print(y_test.shape)"
   ]
  },
  {
   "cell_type": "code",
   "execution_count": 16,
   "metadata": {},
   "outputs": [
    {
     "data": {
      "image/png": "[encoded data removed]",
      "text/plain": [
       "<Figure size 576x432 with 2 Axes>"
      ]
     },
     "metadata": {
      "needs_background": "light"
     },
     "output_type": "display_data"
    }
   ],
   "source": [
    "corr_data = run_pipeline(data, should_scale=False, verbose=False)\n",
    "fig, ax = plt.subplots(figsize=(8,6))\n",
    "im = ax.matshow(corr_data.corr())\n",
    "ax.set_xticks(np.arange(corr_data.shape[1]))\n",
    "ax.set_yticks(np.arange(corr_data.shape[1]))\n",
    "ax.set_xticklabels(corr_data.columns,rotation=90)\n",
    "ax.set_yticklabels(corr_data.columns)\n",
    "cbar = ax.figure.colorbar(im, ax=ax)\n",
    "cbar.ax.set_ylabel(\"Correlation\", rotation=-90, va=\"bottom\", fontsize=12)\n",
    "fig.tight_layout()\n",
    "plt.show()"
   ]
  },
  {
   "cell_type": "markdown",
   "metadata": {},
   "source": [
    "### Logistic Regression"
   ]
  },
  {
   "cell_type": "code",
   "execution_count": 17,
   "metadata": {},
   "outputs": [],
   "source": [
    "# run logreg\n",
    "logreg = LogisticRegression(max_iter=1000)\n",
    "logreg.fit(x_train, y_train)\n",
    "y_predictions = logreg.predict(x_test)"
   ]
  },
  {
   "cell_type": "code",
   "execution_count": 18,
   "metadata": {},
   "outputs": [
    {
     "name": "stdout",
     "output_type": "stream",
     "text": [
      "Accuracy: 0.7705753823743627\n",
      "Precision: 0.6115485564304461\n",
      "Recall: 0.5825\n",
      "F1 Score: 0.5966709346991037\n",
      "Confusion matrix: [[825 148]\n",
      " [167 233]]\n"
     ]
    }
   ],
   "source": [
    "print(f\"Accuracy: {str(accuracy_score(y_test, y_predictions))}\")\n",
    "print(f\"Precision: {str(precision_score(y_test, y_predictions))}\")\n",
    "print(f\"Recall: {str(recall_score(y_test, y_predictions))}\")\n",
    "print(f\"F1 Score: {str (f1_score(y_test, y_predictions))}\")\n",
    "print(f\"Confusion matrix: {confusion_matrix(y_test, y_predictions)}\")\n"
   ]
  },
  {
   "cell_type": "code",
   "execution_count": 19,
   "metadata": {},
   "outputs": [
    {
     "name": "stdout",
     "output_type": "stream",
     "text": [
      "Optimization terminated successfully.\n",
      "         Current function value: 0.555540\n",
      "         Iterations 6\n",
      "x0\tp-value: 0.05757598750158335\n",
      "x2\tp-value: 0.1957027739287156\n",
      "x3\tp-value: 0.7140493851769003\n",
      "x7\tp-value: 0.24018643390617855\n",
      "x8\tp-value: 0.18944597970736077\n",
      "x10\tp-value: 0.3892541830359826\n",
      "x12\tp-value: 0.058630039464205384\n",
      "x13\tp-value: 0.7948260375139753\n"
     ]
    }
   ],
   "source": [
    "# calculate p-values\n",
    "import statsmodels.api as sm\n",
    "model = sm.Logit(y_train, x_train)\n",
    "model_fit = model.fit()\n",
    "for var, p in enumerate(model_fit.pvalues):\n",
    "    if p > 0.05:\n",
    "        print(f\"x{str(var)}\\tp-value: {p}\")"
   ]
  },
  {
   "cell_type": "markdown",
   "metadata": {},
   "source": [
    "The following features are significant to the logistic regression model\n",
    "- gender\n",
    "- hypertension\n",
    "- heart_disease\n",
    "- bmi \n",
    "- work_type_Never_worked\n",
    "- work_type_Self_employed\n",
    "- smoking_status_smokes  \n",
    "\n"
   ]
  },
  {
   "cell_type": "markdown",
   "metadata": {},
   "source": [
    "### PCA"
   ]
  },
  {
   "cell_type": "code",
   "execution_count": 25,
   "metadata": {},
   "outputs": [
    {
     "name": "stdout",
     "output_type": "stream",
     "text": [
      "<class 'pandas.core.frame.DataFrame'>\n",
      "Int64Index: 6861 entries, 249 to 23\n",
      "Data columns (total 11 columns):\n",
      " #   Column             Non-Null Count  Dtype  \n",
      "---  ------             --------------  -----  \n",
      " 0   gender             6861 non-null   object \n",
      " 1   age                6861 non-null   float64\n",
      " 2   hypertension       6861 non-null   int64  \n",
      " 3   heart_disease      6861 non-null   int64  \n",
      " 4   ever_married       6861 non-null   object \n",
      " 5   work_type          6861 non-null   object \n",
      " 6   Residence_type     6861 non-null   object \n",
      " 7   avg_glucose_level  6861 non-null   float64\n",
      " 8   bmi                6861 non-null   float64\n",
      " 9   smoking_status     6861 non-null   object \n",
      " 10  stroke             6861 non-null   int64  \n",
      "dtypes: float64(3), int64(3), object(5)\n",
      "memory usage: 643.2+ KB\n"
     ]
    }
   ],
   "source": [
    "data.info()"
   ]
  },
  {
   "cell_type": "code",
   "execution_count": 33,
   "metadata": {},
   "outputs": [],
   "source": [
    "data = pd.read_csv(os.getcwd() + \"/healthcare-dataset-stroke-data.csv\")\n",
    "labels = data['stroke']\n",
    "processed_data = data.drop(columns=['stroke'])\n",
    "processed_data = run_pipeline(processed_data, should_scale=True)"
   ]
  },
  {
   "cell_type": "code",
   "execution_count": 34,
   "metadata": {},
   "outputs": [
    {
     "name": "stdout",
     "output_type": "stream",
     "text": [
      "      principal component 1  principal component 2  stroke\n",
      "0                  3.723643               1.593191       1\n",
      "1                  0.868349               0.957855       1\n",
      "2                  2.800959               1.831385       1\n",
      "3                  1.498661              -2.064928       1\n",
      "4                  2.903718               3.531388       1\n",
      "...                     ...                    ...     ...\n",
      "5105               2.538604               1.540303       0\n",
      "5106               1.398896               0.414359       0\n",
      "5107              -0.058939               0.586210       0\n",
      "5108               0.747184              -0.948240       0\n",
      "5109              -0.459314              -0.060918       0\n",
      "\n",
      "[5110 rows x 3 columns]\n"
     ]
    }
   ],
   "source": [
    "pca = PCA(n_components=2)\n",
    "principalComponents = pca.fit_transform(processed_data)\n",
    "principalDf = pd.DataFrame(data = principalComponents, columns = ['principal component 1', 'principal component 2'])\n",
    "labels.reset_index(drop=True, inplace=True)\n",
    "principalDf.reset_index(drop=True, inplace=True)\n",
    "finalDf = pd.concat([principalDf, labels], axis = 1)\n",
    "print(finalDf)"
   ]
  },
  {
   "cell_type": "code",
   "execution_count": 35,
   "metadata": {},
   "outputs": [
    {
     "data": {
      "image/png": "[encoded data removed]",
      "text/plain": [
       "<Figure size 576x576 with 1 Axes>"
      ]
     },
     "metadata": {
      "needs_background": "light"
     },
     "output_type": "display_data"
    }
   ],
   "source": [
    "fig = plt.figure(figsize = (8,8))\n",
    "ax = fig.add_subplot(1,1,1) \n",
    "ax.set_xlabel('Principal Component 1', fontsize = 15)\n",
    "ax.set_ylabel('Principal Component 2', fontsize = 15)\n",
    "ax.set_title('2 component PCA visualization', fontsize = 20)\n",
    "targets = [0,1]\n",
    "colors = ['b', 'r']\n",
    "for target, color in zip(targets,colors):\n",
    "    indicesToKeep = finalDf['stroke'] == target\n",
    "    ax.scatter(finalDf.loc[indicesToKeep, 'principal component 1']\n",
    "               , finalDf.loc[indicesToKeep, 'principal component 2']\n",
    "               , c = color\n",
    "               , s = 15, alpha=0.5)\n",
    "ax.legend(['no_stroke', 'stroke'])\n",
    "ax.grid()"
   ]
  },
  {
   "cell_type": "markdown",
   "metadata": {},
   "source": [
    "### Ensemble"
   ]
  },
  {
   "cell_type": "code",
   "execution_count": 36,
   "metadata": {},
   "outputs": [],
   "source": [
    "# train model and generate predictions\n",
    "rfr = RandomForestClassifier(n_estimators=10)\n",
    "rfr = rfr.fit(x_train, y_train)\n",
    "y_predictions = rfr.predict(x_test)"
   ]
  },
  {
   "cell_type": "code",
   "execution_count": 37,
   "metadata": {},
   "outputs": [
    {
     "name": "stdout",
     "output_type": "stream",
     "text": [
      "Accuracy: 0.9796067006554989\n",
      "Precision: 0.9428571428571428\n",
      "Recall: 0.99\n",
      "F1 Score: 0.9658536585365853\n",
      "Confusion matrix: [[949  24]\n",
      " [  4 396]]\n"
     ]
    }
   ],
   "source": [
    "print(f\"Accuracy: {str(accuracy_score(y_test, y_predictions))}\")\n",
    "print(f\"Precision: {str(precision_score(y_test, y_predictions))}\")\n",
    "print(f\"Recall: {str(recall_score(y_test, y_predictions))}\")\n",
    "print(f\"F1 Score: {str (f1_score(y_test, y_predictions))}\")\n",
    "print(f\"Confusion matrix: {confusion_matrix(y_test, y_predictions)}\")\n"
   ]
  },
  {
   "cell_type": "markdown",
   "metadata": {},
   "source": [
    "### Neural Network"
   ]
  },
  {
   "cell_type": "code",
   "execution_count": 38,
   "metadata": {},
   "outputs": [],
   "source": [
    "# train multi layer preceptron model\n",
    "mlp = MLPClassifier(solver='lbfgs', alpha=1e-5, max_iter=1000)\n",
    "mlp = mlp.fit(x_train, y_train)\n",
    "y_predictions = mlp.predict(x_test)"
   ]
  },
  {
   "cell_type": "code",
   "execution_count": 39,
   "metadata": {},
   "outputs": [
    {
     "name": "stdout",
     "output_type": "stream",
     "text": [
      "Accuracy: 0.9519300801165331\n",
      "Precision: 0.8583690987124464\n",
      "Recall: 1.0\n",
      "F1 Score: 0.9237875288683602\n",
      "Confusion matrix: [[907  66]\n",
      " [  0 400]]\n"
     ]
    }
   ],
   "source": [
    "print(f\"Accuracy: {str(accuracy_score(y_test, y_predictions))}\")\n",
    "print(f\"Precision: {str(precision_score(y_test, y_predictions))}\")\n",
    "print(f\"Recall: {str(recall_score(y_test, y_predictions))}\")\n",
    "print(f\"F1 Score: {str (f1_score(y_test, y_predictions))}\")\n",
    "print(f\"Confusion matrix: {confusion_matrix(y_test, y_predictions)}\")\n"
   ]
  },
  {
   "cell_type": "markdown",
   "metadata": {},
   "source": [
    "### Cross Validation"
   ]
  },
  {
   "cell_type": "code",
   "execution_count": 40,
   "metadata": {},
   "outputs": [],
   "source": [
    "# generate datasets \n",
    "labels = data['stroke']\n",
    "processed_data = data.drop(columns=['stroke'])\n",
    "\n",
    "# run pipeline\n",
    "processed_data = run_pipeline(processed_data, should_scale=True, verbose=False)"
   ]
  },
  {
   "cell_type": "code",
   "execution_count": 42,
   "metadata": {},
   "outputs": [
    {
     "name": "stdout",
     "output_type": "stream",
     "text": [
      "Average F1 RFR: 0.04574279857589815\n",
      "Average F1 NN: 0.11008356525613774\n"
     ]
    }
   ],
   "source": [
    "@ignore_warnings(category=ConvergenceWarning) # suppress convergence warning messages from NN models\n",
    "def run_kfold(X_kfold, Y_kfold):\n",
    "    # set up kfold \n",
    "    kf = KFold(n_splits=10, shuffle=True)\n",
    "\n",
    "    # prep data\n",
    "    X = X_kfold\n",
    "    y = Y_kfold\n",
    "\n",
    "    # train logistic model\n",
    "    rfr_scores = []\n",
    "    nn_scores = []\n",
    "\n",
    "    for train_index, test_index in kf.split(X):\n",
    "        X_train, X_test = X[train_index], X[test_index]\n",
    "        y_train, y_test = y[train_index], y[test_index]\n",
    "        model = RandomForestClassifier(n_estimators=10).fit(X_train, y_train)\n",
    "        y_predictions = model.predict(X_test)\n",
    "        rfr_scores.append(f1_score(y_test, y_predictions))\n",
    "        model = MLPClassifier(solver='lbfgs', alpha=1e-5, max_iter=100).fit(X_train, y_train)\n",
    "        y_predictions = model.predict(X_test)\n",
    "        nn_scores.append(f1_score(y_test, y_predictions))\n",
    "\n",
    "    print(f\"Average F1 RFR: {sum(rfr_scores)/len(rfr_scores)}\")\n",
    "    print(f\"Average F1 NN: {sum(nn_scores)/len(nn_scores)}\")\n",
    "\n",
    "run_kfold(processed_data, labels)\n",
    "\n"
   ]
  },
  {
   "cell_type": "markdown",
   "metadata": {},
   "source": [
    "### SVM"
   ]
  },
  {
   "cell_type": "code",
   "execution_count": 43,
   "metadata": {},
   "outputs": [],
   "source": [
    "# run SVC with large regularization param and rbf kernel \n",
    "svc = SVC(C=10000, kernel='rbf').fit(x_train, y_train)\n",
    "y_predictions = svc.predict(x_test)"
   ]
  },
  {
   "cell_type": "code",
   "execution_count": 44,
   "metadata": {},
   "outputs": [
    {
     "name": "stdout",
     "output_type": "stream",
     "text": [
      "Accuracy: 0.9147851420247632\n",
      "Precision: 0.8029978586723768\n",
      "Recall: 0.9375\n",
      "F1 Score: 0.8650519031141869\n",
      "Confusion matrix: [[881  92]\n",
      " [ 25 375]]\n"
     ]
    }
   ],
   "source": [
    "print(f\"Accuracy: {str(accuracy_score(y_test, y_predictions))}\")\n",
    "print(f\"Precision: {str(precision_score(y_test, y_predictions))}\")\n",
    "print(f\"Recall: {str(recall_score(y_test, y_predictions))}\")\n",
    "print(f\"F1 Score: {str (f1_score(y_test, y_predictions))}\")\n",
    "print(f\"Confusion matrix: {confusion_matrix(y_test, y_predictions)}\")\n"
   ]
  },
  {
   "cell_type": "markdown",
   "metadata": {},
   "source": [
    "### KNN"
   ]
  },
  {
   "cell_type": "code",
   "execution_count": 45,
   "metadata": {},
   "outputs": [],
   "source": [
    "# run KNN \n",
    "knn = KNeighborsClassifier(n_neighbors=5).fit(x_train, y_train)\n",
    "y_predictions = knn.predict(x_test)"
   ]
  },
  {
   "cell_type": "code",
   "execution_count": 46,
   "metadata": {},
   "outputs": [
    {
     "name": "stdout",
     "output_type": "stream",
     "text": [
      "Accuracy: 0.8892935178441369\n",
      "Precision: 0.7366412213740458\n",
      "Recall: 0.965\n",
      "F1 Score: 0.8354978354978355\n",
      "Confusion matrix: [[835 138]\n",
      " [ 14 386]]\n"
     ]
    }
   ],
   "source": [
    "print(f\"Accuracy: {str(accuracy_score(y_test, y_predictions))}\")\n",
    "print(f\"Precision: {str(precision_score(y_test, y_predictions))}\")\n",
    "print(f\"Recall: {str(recall_score(y_test, y_predictions))}\")\n",
    "print(f\"F1 Score: {str (f1_score(y_test, y_predictions))}\")\n",
    "print(f\"Confusion matrix: {confusion_matrix(y_test, y_predictions)}\")\n"
   ]
  },
  {
   "cell_type": "code",
   "execution_count": null,
   "metadata": {},
   "outputs": [],
   "source": []
  }
 ],
 "metadata": {
  "kernelspec": {
   "display_name": "Python 3",
   "language": "python",
   "name": "python3"
  },
  "language_info": {
   "codemirror_mode": {
    "name": "ipython",
    "version": 3
   },
   "file_extension": ".py",
   "mimetype": "text/x-python",
   "name": "python",
   "nbconvert_exporter": "python",
   "pygments_lexer": "ipython3",
   "version": "3.8.3"
  },
  "metadata": {
   "interpreter": {
    "hash": "31f2aee4e71d21fbe5cf8b01ff0e069b9275f58929596ceb00d14d90e3e16cd6"
   }
  }
 },
 "nbformat": 4,
 "nbformat_minor": 4
}
